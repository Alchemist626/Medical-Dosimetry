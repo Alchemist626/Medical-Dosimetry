{
  "nbformat": 4,
  "nbformat_minor": 0,
  "metadata": {
    "colab": {
      "provenance": [],
      "authorship_tag": "ABX9TyPuRMHZhMYOM+dAzm7YVY5C",
      "include_colab_link": true
    },
    "kernelspec": {
      "name": "python3",
      "display_name": "Python 3"
    },
    "language_info": {
      "name": "python"
    }
  },
  "cells": [
    {
      "cell_type": "markdown",
      "metadata": {
        "id": "view-in-github",
        "colab_type": "text"
      },
      "source": [
        "<a href=\"https://colab.research.google.com/github/Alchemist626/Medical-Dosimetry/blob/main/HU.ipynb\" target=\"_parent\"><img src=\"https://colab.research.google.com/assets/colab-badge.svg\" alt=\"Open In Colab\"/></a>"
      ]
    },
    {
      "cell_type": "code",
      "execution_count": null,
      "metadata": {
        "id": "KU3uT1xDBv-U"
      },
      "outputs": [],
      "source": [
        "import streamlit as st\n",
        "import zipfile\n",
        "import os\n",
        "import tempfile\n",
        "import numpy as np\n",
        "import pydicom\n",
        "import matplotlib.pyplot as plt\n",
        "\n",
        "st.title(\"CT Slice Viewer + HU Histogram\")\n",
        "\n",
        "uploaded_file = st.file_uploader(\"Upload ZIP file containing CT DICOMs\", type=\"zip\")\n",
        "\n",
        "if uploaded_file:\n",
        "    with tempfile.TemporaryDirectory() as tmpdirname:\n",
        "        # Save uploaded zip file to temp folder\n",
        "        zip_path = os.path.join(tmpdirname, \"uploaded.zip\")\n",
        "        with open(zip_path, \"wb\") as f:\n",
        "            f.write(uploaded_file.getbuffer())\n",
        "\n",
        "        # Extract ZIP\n",
        "        with zipfile.ZipFile(zip_path, 'r') as zip_ref:\n",
        "            zip_ref.extractall(tmpdirname)\n",
        "\n",
        "        # Find CT DICOM files\n",
        "        ct_slices = []\n",
        "        for root, _, files in os.walk(tmpdirname):\n",
        "            for filename in files:\n",
        "                if filename.lower().endswith('.dcm'):\n",
        "                    ds = pydicom.dcmread(os.path.join(root, filename))\n",
        "                    if ds.Modality.upper() == 'CT':\n",
        "                        ct_slices.append(ds)\n",
        "\n",
        "        if len(ct_slices) == 0:\n",
        "            st.error(\"No CT DICOM slices found in uploaded ZIP.\")\n",
        "        else:\n",
        "            # Sort slices by InstanceNumber\n",
        "            ct_slices = sorted(ct_slices, key=lambda x: int(x.InstanceNumber))\n",
        "\n",
        "            # Convert to HU\n",
        "            pixel_arrays = []\n",
        "            for s in ct_slices:\n",
        "                slope = getattr(s, 'RescaleSlope', 1)\n",
        "                intercept = getattr(s, 'RescaleIntercept', 0)\n",
        "                hu_slice = s.pixel_array.astype(np.float32) * slope + intercept\n",
        "                pixel_arrays.append(hu_slice)\n",
        "\n",
        "            volume = np.stack(pixel_arrays)\n",
        "\n",
        "            # Display middle slice\n",
        "            mid_slice_idx = volume.shape[0] // 2\n",
        "            st.write(f\"Displaying middle slice #{mid_slice_idx}\")\n",
        "            fig1, ax1 = plt.subplots()\n",
        "            ax1.imshow(volume[mid_slice_idx], cmap='gray', vmin=-1000, vmax=400)\n",
        "            ax1.axis('off')\n",
        "            st.pyplot(fig1)\n",
        "\n",
        "            # Plot HU histogram\n",
        "            fig2, ax2 = plt.subplots()\n",
        "            ax2.hist(volume.ravel(), bins=200, range=(-1000, 2000), color='gray')\n",
        "            ax2.set_title('Histogram of Hounsfield Units (HU)')\n",
        "            ax2.set_xlabel('HU')\n",
        "            ax2.set_ylabel('Voxel Count')\n",
        "            ax2.grid(True)\n",
        "            st.pyplot(fig2)"
      ]
    }
  ]
}